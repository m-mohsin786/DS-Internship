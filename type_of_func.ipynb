{
 "cells": [
  {
   "cell_type": "code",
   "execution_count": 5,
   "metadata": {},
   "outputs": [
    {
     "name": "stdout",
     "output_type": "stream",
     "text": [
      "25 175\n"
     ]
    }
   ],
   "source": [
    "def add(a, b):\n",
    "    return a + b\n",
    "ans = add(12, 13)\n",
    "new_ans = add(ans, 150)\n",
    "print(ans, new_ans)"
   ]
  },
  {
   "cell_type": "code",
   "execution_count": 6,
   "metadata": {},
   "outputs": [
    {
     "data": {
      "text/plain": [
       "28.181818181818183"
      ]
     },
     "execution_count": 6,
     "metadata": {},
     "output_type": "execute_result"
    }
   ],
   "source": [
    "a = add(12, 13)\n",
    "b = add(12, 50)\n",
    "c = add(23,32)\n",
    "a * b / c"
   ]
  },
  {
   "cell_type": "code",
   "execution_count": 2,
   "metadata": {},
   "outputs": [
    {
     "name": "stdout",
     "output_type": "stream",
     "text": [
      "Compound Amount:  14641.000000000004\n",
      "Compound interest is 4641.000000000004\n"
     ]
    }
   ],
   "source": [
    "import math\n",
    "def compound_interest(p,r,t):   \n",
    "    amt = p * (math.pow((1 + (r/100)),t))\n",
    "    print(\"Compound Amount: \",amt)\n",
    "    CI = amt - p\n",
    "    return CI\n",
    "\n",
    "p=float(input(\"Enter Principal Amount: \"))\n",
    "r=float(input(\"Enter Rate of Interest: \"))\n",
    "t=float(input(\"Enter Time Period in years: \"))\n",
    "\n",
    "print(\"Compound interest is\",compound_interest(p,r,t))"
   ]
  },
  {
   "cell_type": "code",
   "execution_count": 7,
   "metadata": {},
   "outputs": [
    {
     "data": {
      "text/plain": [
       "28.181818181818183"
      ]
     },
     "execution_count": 7,
     "metadata": {},
     "output_type": "execute_result"
    }
   ],
   "source": [
    "add(12, 13) * add(12, 50) / add(23, 32)"
   ]
  },
  {
   "cell_type": "markdown",
   "metadata": {},
   "source": [
    "- create function \n",
    "1. Waf to return the compound interest for given P, T , R.\n",
    "2. Waf to return all the words starting with the letter given as parameter.\n",
    "3. Waf to return the factorial of a given number. "
   ]
  }
 ],
 "metadata": {
  "kernelspec": {
   "display_name": "base",
   "language": "python",
   "name": "python3"
  },
  "language_info": {
   "codemirror_mode": {
    "name": "ipython",
    "version": 3
   },
   "file_extension": ".py",
   "mimetype": "text/x-python",
   "name": "python",
   "nbconvert_exporter": "python",
   "pygments_lexer": "ipython3",
   "version": "3.11.5"
  }
 },
 "nbformat": 4,
 "nbformat_minor": 2
}
