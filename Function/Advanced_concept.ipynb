{
 "cells": [
  {
   "cell_type": "markdown",
   "metadata": {},
   "source": [
    "### function styles in python based on parameters\n",
    "- positional arguments\n"
   ]
  },
  {
   "cell_type": "code",
   "execution_count": 115,
   "metadata": {},
   "outputs": [],
   "source": [
    "def multi(a, b):\n",
    "    return a * b"
   ]
  },
  {
   "cell_type": "code",
   "execution_count": 116,
   "metadata": {},
   "outputs": [
    {
     "data": {
      "text/plain": [
       "200"
      ]
     },
     "execution_count": 116,
     "metadata": {},
     "output_type": "execute_result"
    }
   ],
   "source": [
    "multi(10, 20) # positional argument"
   ]
  },
  {
   "cell_type": "code",
   "execution_count": 117,
   "metadata": {},
   "outputs": [
    {
     "data": {
      "text/plain": [
       "200"
      ]
     },
     "execution_count": 117,
     "metadata": {},
     "output_type": "execute_result"
    }
   ],
   "source": [
    "multi(a=10, b=20) # keyword argument"
   ]
  },
  {
   "cell_type": "code",
   "execution_count": 118,
   "metadata": {},
   "outputs": [
    {
     "data": {
      "text/plain": [
       "200"
      ]
     },
     "execution_count": 118,
     "metadata": {},
     "output_type": "execute_result"
    }
   ],
   "source": [
    "multi(b=20, a=10) # keyword argument"
   ]
  },
  {
   "cell_type": "code",
   "execution_count": 119,
   "metadata": {},
   "outputs": [],
   "source": [
    "def si(p, r, t): # Required argument\n",
    "    return p * r * t / 100"
   ]
  },
  {
   "cell_type": "code",
   "execution_count": 120,
   "metadata": {},
   "outputs": [
    {
     "name": "stdout",
     "output_type": "stream",
     "text": [
      "1750.0\n",
      "2100.0\n",
      "2625.0\n"
     ]
    }
   ],
   "source": [
    "ans = si(10000, 3.5 , 5) # works fine\n",
    "print(ans)\n",
    "# rule positional arguments first then keyword arguments\n",
    "ans = si(12000, t=5, r=3.5) # mixed style\n",
    "print(ans)\n",
    "# All keywords arguments\n",
    "ans = si(p=15000, t=5, r=3.5)\n",
    "print(ans)\n"
   ]
  },
  {
   "cell_type": "code",
   "execution_count": 121,
   "metadata": {},
   "outputs": [],
   "source": [
    "def generate_cards():\n",
    "    symbol = ['♣️', '♥️', '♦️', '♣'] \n",
    "    cards = []\n",
    "    for s in symbol:\n",
    "        for i in list(range (2, 11))+['J', 'Q', 'K', 'A']:\n",
    "            cards.append(f'{s}{i}')\n",
    "    return cards "
   ]
  },
  {
   "cell_type": "code",
   "execution_count": 122,
   "metadata": {},
   "outputs": [],
   "source": [
    "from random import sample\n",
    "\n",
    "def distribute(size=13):\n",
    "    return sample(generate_cards(), size)"
   ]
  },
  {
   "cell_type": "code",
   "execution_count": 123,
   "metadata": {},
   "outputs": [
    {
     "data": {
      "text/plain": [
       "['♦️K',\n",
       " '♣6',\n",
       " '♣3',\n",
       " '♣️3',\n",
       " '♦️8',\n",
       " '♣8',\n",
       " '♣️A',\n",
       " '♣5',\n",
       " '♣️8',\n",
       " '♥️2',\n",
       " '♣️9',\n",
       " '♣10',\n",
       " '♣️4']"
      ]
     },
     "execution_count": 123,
     "metadata": {},
     "output_type": "execute_result"
    }
   ],
   "source": [
    "distribute()"
   ]
  },
  {
   "cell_type": "code",
   "execution_count": 124,
   "metadata": {},
   "outputs": [
    {
     "name": "stdout",
     "output_type": "stream",
     "text": [
      "🧑🏾Shivam have ['♦️K', '♥️5', '♦️Q', '♣K', '♣7', '♦️6', '♣️5', '♦️A', '♥️9', '♣️K', '♣️7', '♣️3', '♥️Q']\n",
      "👨🏾‍🦰Rajya have ['♣6', '♣️6', '♦️4', '♥️5', '♣️3', '♥️A', '♣️J', '♣7', '♣9', '♦️A', '♣5', '♦️10', '♣️K']\n",
      "👩🏾‍🦱Vansh have ['♥️4', '♦️7', '♣K', '♥️3', '♣️J', '♣️K', '♣4', '♦️10', '♦️A', '♦️3', '♥️2', '♥️K', '♥️8']\n",
      "👩🏾Amita have ['♦️10', '♣7', '♦️6', '♣A', '♣️7', '♥️8', '♣️9', '♣️8', '♣️2', '♣4', '♣2', '♥️10', '♦️3']\n"
     ]
    }
   ],
   "source": [
    "names = ['🧑🏾Shivam', '👨🏾‍🦰Rajya', '👩🏾‍🦱Vansh', '👩🏾Amita']\n",
    "for name in names:\n",
    "    print(f'{name} have {distribute()}')"
   ]
  },
  {
   "cell_type": "code",
   "execution_count": 125,
   "metadata": {},
   "outputs": [
    {
     "name": "stdout",
     "output_type": "stream",
     "text": [
      "30\n",
      "6469693230\n",
      "1\n",
      "512\n"
     ]
    }
   ],
   "source": [
    "# Variable Length Arguments\n",
    "def multi(*nums):\n",
    "    temp = 1\n",
    "    for n in nums:\n",
    "        temp *= n\n",
    "    return temp\n",
    "\n",
    "# 2 X 3 X 5\n",
    "print(multi(2, 3, 5))\n",
    "print(multi(2, 3, 5, 7, 11, 13, 17, 19, 23, 29))\n",
    "print(multi())\n",
    "print(multi(2,2,2,2,2,2,2,2,2,))"
   ]
  },
  {
   "cell_type": "code",
   "execution_count": 126,
   "metadata": {},
   "outputs": [],
   "source": [
    "# Keyword Variable Length Arguments\n",
    "def purchase(**products):\n",
    "    total = 0\n",
    "    for name, value in products.items():\n",
    "        print(f'🛒{name:10}{value:.2f}')\n",
    "        total += value\n",
    "    print('_'* 20)\n",
    "    print(f'💸 Total Amount {total}')\n",
    "\n"
   ]
  },
  {
   "cell_type": "code",
   "execution_count": 127,
   "metadata": {},
   "outputs": [
    {
     "name": "stdout",
     "output_type": "stream",
     "text": [
      "🛒shoes     2000.00\n",
      "🛒suit      5000.00\n",
      "🛒watch     3000.00\n",
      "🛒shift     1000.00\n",
      "🛒icecream  50.00\n",
      "____________________\n",
      "💸 Total Amount 11050\n"
     ]
    }
   ],
   "source": [
    "purchase(shoes=2000, suit=5000, watch=3000, shift=1000, icecream=50)"
   ]
  },
  {
   "cell_type": "code",
   "execution_count": 128,
   "metadata": {},
   "outputs": [],
   "source": [
    "f = lambda x: x**2 + x + 1 "
   ]
  },
  {
   "cell_type": "code",
   "execution_count": 129,
   "metadata": {},
   "outputs": [],
   "source": [
    "g = lambda x, y: x**2 + y**2 + 2*x*y"
   ]
  },
  {
   "cell_type": "code",
   "execution_count": 130,
   "metadata": {},
   "outputs": [
    {
     "name": "stdout",
     "output_type": "stream",
     "text": [
      "111 421\n",
      "900\n",
      "15429184\n"
     ]
    }
   ],
   "source": [
    "print(f(10), f(20))\n",
    "print(g(10, 20))\n",
    "print(g(1711, 2217))"
   ]
  },
  {
   "cell_type": "markdown",
   "metadata": {},
   "source": [
    "(p**2 + b**)**.5"
   ]
  },
  {
   "cell_type": "code",
   "execution_count": null,
   "metadata": {},
   "outputs": [],
   "source": [
    "h = lambda p,b: (p**2 + b**)**0.5\n",
    "h(20,21)"
   ]
  }
 ],
 "metadata": {
  "kernelspec": {
   "display_name": "base",
   "language": "python",
   "name": "python3"
  },
  "language_info": {
   "codemirror_mode": {
    "name": "ipython",
    "version": 3
   },
   "file_extension": ".py",
   "mimetype": "text/x-python",
   "name": "python",
   "nbconvert_exporter": "python",
   "pygments_lexer": "ipython3",
   "version": "3.11.5"
  }
 },
 "nbformat": 4,
 "nbformat_minor": 2
}
